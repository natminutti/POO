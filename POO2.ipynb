{
  "nbformat": 4,
  "nbformat_minor": 0,
  "metadata": {
    "colab": {
      "provenance": []
    },
    "kernelspec": {
      "name": "python3",
      "display_name": "Python 3"
    },
    "language_info": {
      "name": "python"
    }
  },
  "cells": [
    {
      "cell_type": "code",
      "execution_count": null,
      "metadata": {
        "id": "xELbcyj8bLS-"
      },
      "outputs": [],
      "source": [
        "#VAMOS A GENERAR UNA LISTA VACIA\n",
        "L=[]\n",
        "range (10)\n",
        "range (0,10)\n"
      ]
    },
    {
      "cell_type": "markdown",
      "source": [
        "range (0,10)"
      ],
      "metadata": {
        "id": "kzMOSww3b2vN"
      }
    },
    {
      "cell_type": "code",
      "source": [
        "for i in range (10):\n",
        "  print (i)\n",
        "0\n",
        "1\n",
        "2\n",
        "3\n",
        "4\n",
        "5\n",
        "6\n",
        "7\n",
        "8\n",
        "9\n"
      ],
      "metadata": {
        "id": "WskvdErQb5Ta"
      },
      "execution_count": null,
      "outputs": []
    },
    {
      "cell_type": "code",
      "source": [
        "L=[1,2,3,4]\n",
        "L"
      ],
      "metadata": {
        "id": "R_StTZWscv4k"
      },
      "execution_count": null,
      "outputs": []
    },
    {
      "cell_type": "markdown",
      "source": [
        "[1,2,3,4]"
      ],
      "metadata": {
        "id": "XuG7DOAadR-z"
      }
    },
    {
      "cell_type": "code",
      "source": [
        "l.append(5)\n",
        "L"
      ],
      "metadata": {
        "id": "yyBWv8YUdWE9"
      },
      "execution_count": null,
      "outputs": []
    },
    {
      "cell_type": "markdown",
      "source": [
        "[1,2,3,4,5,5,5]"
      ],
      "metadata": {
        "id": "2bXWIZ4Zdad3"
      }
    },
    {
      "cell_type": "code",
      "source": [
        "L.remove(5)\n"
      ],
      "metadata": {
        "id": "IZGNH83dfSQI"
      },
      "execution_count": null,
      "outputs": []
    },
    {
      "cell_type": "code",
      "source": [
        "L"
      ],
      "metadata": {
        "id": "z8k5SxGvfV_C"
      },
      "execution_count": null,
      "outputs": []
    },
    {
      "cell_type": "markdown",
      "source": [
        "[1,2,3,4,5]\n"
      ],
      "metadata": {
        "id": "VBLmuD9sfXLn"
      }
    },
    {
      "cell_type": "code",
      "source": [
        "len ([2,4,6,8])"
      ],
      "metadata": {
        "id": "2udRKl0Sfehu"
      },
      "execution_count": null,
      "outputs": []
    },
    {
      "cell_type": "code",
      "source": [
        "Pares= [i for i in range (1,101)] if i%2==0]\n",
        "Pares"
      ],
      "metadata": {
        "id": "en2gMCQCflBj"
      },
      "execution_count": null,
      "outputs": []
    },
    {
      "cell_type": "code",
      "source": [
        "Impares = [i for i in range (1,101) if i%2!==0]\n",
        "Impares"
      ],
      "metadata": {
        "id": "CPqEivQrjm-8"
      },
      "execution_count": null,
      "outputs": []
    },
    {
      "cell_type": "markdown",
      "source": [
        "  Modulo Numpy"
      ],
      "metadata": {
        "id": "PvelgNPqj2Su"
      }
    },
    {
      "cell_type": "code",
      "source": [
        "import numpy as np"
      ],
      "metadata": {
        "id": "1N8WD7upj4IE"
      },
      "execution_count": 4,
      "outputs": []
    },
    {
      "cell_type": "code",
      "source": [
        "np. random.randint(1,101,5)"
      ],
      "metadata": {
        "colab": {
          "base_uri": "https://localhost:8080/"
        },
        "id": "Baw_LNk9j9dw",
        "outputId": "8d6b93cc-9af0-4cc1-d547-90c36c3754c3"
      },
      "execution_count": 6,
      "outputs": [
        {
          "output_type": "execute_result",
          "data": {
            "text/plain": [
              "array([96, 19, 29, 45, 80])"
            ]
          },
          "metadata": {},
          "execution_count": 6
        }
      ]
    },
    {
      "cell_type": "markdown",
      "source": [
        "array ([52,72,8,3,71])"
      ],
      "metadata": {
        "id": "4M9siUoVkFD_"
      }
    },
    {
      "cell_type": "code",
      "source": [
        "np.random.randint(1,10,100)"
      ],
      "metadata": {
        "colab": {
          "base_uri": "https://localhost:8080/"
        },
        "id": "pCGrQ6GNkYHl",
        "outputId": "b946949e-4398-4669-fd82-d8f93fa0b708"
      },
      "execution_count": 8,
      "outputs": [
        {
          "output_type": "execute_result",
          "data": {
            "text/plain": [
              "array([9, 6, 8, 6, 5, 1, 3, 8, 1, 5, 8, 4, 7, 1, 1, 1, 2, 9, 1, 4, 8, 5,\n",
              "       9, 8, 5, 4, 8, 6, 6, 6, 3, 1, 8, 2, 8, 4, 4, 8, 1, 1, 5, 4, 5, 9,\n",
              "       1, 4, 5, 9, 7, 2, 9, 4, 6, 7, 6, 7, 8, 3, 1, 3, 5, 7, 3, 5, 6, 5,\n",
              "       1, 7, 9, 5, 7, 5, 5, 2, 4, 6, 2, 3, 6, 4, 5, 5, 1, 6, 3, 1, 1, 8,\n",
              "       4, 1, 4, 5, 1, 1, 5, 4, 7, 6, 9, 5])"
            ]
          },
          "metadata": {},
          "execution_count": 8
        }
      ]
    },
    {
      "cell_type": "code",
      "source": [
        "Pares=[i for i in (np. random.randint(1,10,100))if i%2==0]\n",
        "Pares"
      ],
      "metadata": {
        "colab": {
          "base_uri": "https://localhost:8080/"
        },
        "id": "GxqYsosslB1O",
        "outputId": "b1d217f9-59fa-453b-a06d-9c49aba78108"
      },
      "execution_count": 10,
      "outputs": [
        {
          "output_type": "execute_result",
          "data": {
            "text/plain": [
              "[4,\n",
              " 6,\n",
              " 2,\n",
              " 2,\n",
              " 6,\n",
              " 2,\n",
              " 8,\n",
              " 2,\n",
              " 8,\n",
              " 6,\n",
              " 2,\n",
              " 2,\n",
              " 6,\n",
              " 8,\n",
              " 2,\n",
              " 6,\n",
              " 8,\n",
              " 4,\n",
              " 8,\n",
              " 4,\n",
              " 8,\n",
              " 6,\n",
              " 8,\n",
              " 2,\n",
              " 4,\n",
              " 8,\n",
              " 8,\n",
              " 8,\n",
              " 4,\n",
              " 8,\n",
              " 2,\n",
              " 8,\n",
              " 2,\n",
              " 6,\n",
              " 4,\n",
              " 2,\n",
              " 4,\n",
              " 8,\n",
              " 2,\n",
              " 2,\n",
              " 8,\n",
              " 8,\n",
              " 8,\n",
              " 2,\n",
              " 8,\n",
              " 6,\n",
              " 4,\n",
              " 4,\n",
              " 8,\n",
              " 4,\n",
              " 8]"
            ]
          },
          "metadata": {},
          "execution_count": 10
        }
      ]
    }
  ]
}