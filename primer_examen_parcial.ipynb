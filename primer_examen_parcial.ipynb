{
  "nbformat": 4,
  "nbformat_minor": 0,
  "metadata": {
    "colab": {
      "provenance": []
    },
    "kernelspec": {
      "name": "python3",
      "display_name": "Python 3"
    },
    "language_info": {
      "name": "python"
    }
  },
  "cells": [
    {
      "cell_type": "code",
      "execution_count": 75,
      "metadata": {
        "id": "aJyRCf-In-Dr"
      },
      "outputs": [],
      "source": [
        "class formulas():\n",
        "  def __init__(self):\n",
        "    print(\"Creamos una clase madre\")\n",
        "\n",
        "  def area(self):\n",
        "      print(\"Vamos a sacar area de un traingulo\")\n",
        "\n",
        "  def perimetro(self):\n",
        "      print(\"Vamos a sacar perimetro de un traingulo\")\n",
        "\n",
        "  def trianguloequilateroa(self):\n",
        "        print(\"B·A/2\")\n",
        "\n",
        "  def trianguloequilateroap(self):\n",
        "        print(\"lado1+lado2+lado3+lado4\")\n",
        "\n",
        "class matriz(formulas):\n",
        "\n",
        "  def __init__(self):\n",
        "    Matriz.__init__(self)\n",
        "    print(\"Creamos una clase matriz\")"
      ]
    },
    {
      "cell_type": "code",
      "source": [
        "formulas = formulas()\n"
      ],
      "metadata": {
        "colab": {
          "base_uri": "https://localhost:8080/"
        },
        "id": "Q3tGN6PXpUkk",
        "outputId": "f8af2e63-6469-4b98-ab72-cc21618ab6a5"
      },
      "execution_count": 3,
      "outputs": [
        {
          "output_type": "stream",
          "name": "stdout",
          "text": [
            "Creamos una clase madre\n"
          ]
        }
      ]
    },
    {
      "cell_type": "code",
      "source": [
        "formulas.area()"
      ],
      "metadata": {
        "colab": {
          "base_uri": "https://localhost:8080/"
        },
        "id": "U1vDZgoOpaHd",
        "outputId": "64ba4e8e-889a-4cef-b9f7-6dd3c989df16"
      },
      "execution_count": 4,
      "outputs": [
        {
          "output_type": "stream",
          "name": "stdout",
          "text": [
            "Vamos a sacar area de un traingulo\n"
          ]
        }
      ]
    },
    {
      "cell_type": "code",
      "source": [
        "formulas.perimetro()"
      ],
      "metadata": {
        "colab": {
          "base_uri": "https://localhost:8080/"
        },
        "id": "GG3-YX7UpwjT",
        "outputId": "2c8aceda-5eff-4933-fba1-59b3f6600bc5"
      },
      "execution_count": 5,
      "outputs": [
        {
          "output_type": "stream",
          "name": "stdout",
          "text": [
            "Vamos a sacar perimetro de un traingulo\n"
          ]
        }
      ]
    },
    {
      "cell_type": "code",
      "source": [
        "formulas.trianguloequilateroa()"
      ],
      "metadata": {
        "colab": {
          "base_uri": "https://localhost:8080/"
        },
        "id": "8VRxo8JdpfTl",
        "outputId": "1e618b9b-64ec-42d2-b224-0070d0e4acb6"
      },
      "execution_count": 43,
      "outputs": [
        {
          "output_type": "stream",
          "name": "stdout",
          "text": [
            "B·A/2\n"
          ]
        }
      ]
    },
    {
      "cell_type": "code",
      "source": [
        "formulas.trianguloequilateroap"
      ],
      "metadata": {
        "colab": {
          "base_uri": "https://localhost:8080/",
          "height": 121
        },
        "id": "P794Bkm4qXxV",
        "outputId": "d59bc684-e0e9-4fe3-d41b-29721349b835"
      },
      "execution_count": 76,
      "outputs": [
        {
          "output_type": "execute_result",
          "data": {
            "text/plain": [
              "<function __main__.formulas.trianguloequilateroap(self)>"
            ],
            "text/html": [
              "<div style=\"max-width:800px; border: 1px solid var(--colab-border-color);\"><style>\n",
              "      pre.function-repr-contents {\n",
              "        overflow-x: auto;\n",
              "        padding: 8px 12px;\n",
              "        max-height: 500px;\n",
              "      }\n",
              "\n",
              "      pre.function-repr-contents.function-repr-contents-collapsed {\n",
              "        cursor: pointer;\n",
              "        max-height: 100px;\n",
              "      }\n",
              "    </style>\n",
              "    <pre style=\"white-space: initial; background:\n",
              "         var(--colab-secondary-surface-color); padding: 8px 12px;\n",
              "         border-bottom: 1px solid var(--colab-border-color);\"><b>formulas.trianguloequilateroap</b><br/>def trianguloequilateroap()</pre><pre class=\"function-repr-contents function-repr-contents-collapsed\" style=\"\"><a class=\"filepath\" style=\"display:none\" href=\"#\">/content/&lt;ipython-input-75-4bdeecd41180&gt;</a>&lt;no docstring&gt;</pre></div>"
            ]
          },
          "metadata": {},
          "execution_count": 76
        }
      ]
    },
    {
      "cell_type": "code",
      "source": [
        "import numpy as np"
      ],
      "metadata": {
        "id": "nlkPddQdrDT-"
      },
      "execution_count": 20,
      "outputs": []
    },
    {
      "cell_type": "code",
      "source": [
        "L = [i for i in np.random.randint(1,21, size=40) if i%2==0]\n",
        "L\n"
      ],
      "metadata": {
        "colab": {
          "base_uri": "https://localhost:8080/"
        },
        "id": "txs6vFcRrT2Z",
        "outputId": "0b790349-3809-41c3-b0a7-46a97074e07c"
      },
      "execution_count": 60,
      "outputs": [
        {
          "output_type": "execute_result",
          "data": {
            "text/plain": [
              "[8, 20, 12, 10, 10, 12, 16, 6, 18, 4, 6, 14, 16, 12, 12, 20]"
            ]
          },
          "metadata": {},
          "execution_count": 60
        }
      ]
    },
    {
      "cell_type": "code",
      "source": [
        "L_arreglo = np.array(L)\n",
        "L_arreglo\n",
        ""
      ],
      "metadata": {
        "colab": {
          "base_uri": "https://localhost:8080/"
        },
        "id": "JCUXi6bIrD5-",
        "outputId": "ba2b0b87-c7e7-4496-8680-def61fd16be9"
      },
      "execution_count": 61,
      "outputs": [
        {
          "output_type": "execute_result",
          "data": {
            "text/plain": [
              "array([ 8, 20, 12, 10, 10, 12, 16,  6, 18,  4,  6, 14, 16, 12, 12, 20])"
            ]
          },
          "metadata": {},
          "execution_count": 61
        }
      ]
    },
    {
      "cell_type": "code",
      "source": [
        "len(L_arreglo)"
      ],
      "metadata": {
        "colab": {
          "base_uri": "https://localhost:8080/"
        },
        "id": "bQbMNKaCruKE",
        "outputId": "ac3b5503-e6cc-404d-f1d4-fa4a59f80910"
      },
      "execution_count": 62,
      "outputs": [
        {
          "output_type": "execute_result",
          "data": {
            "text/plain": [
              "16"
            ]
          },
          "metadata": {},
          "execution_count": 62
        }
      ]
    },
    {
      "cell_type": "code",
      "source": [
        "L_matriz= L_arreglo.reshape(4,4)\n",
        "L_matriz"
      ],
      "metadata": {
        "colab": {
          "base_uri": "https://localhost:8080/"
        },
        "id": "Wl0hyNEird51",
        "outputId": "2d3c80c3-ef42-47e6-ba15-2e0e10baf8f5"
      },
      "execution_count": 63,
      "outputs": [
        {
          "output_type": "execute_result",
          "data": {
            "text/plain": [
              "array([[ 8, 20, 12, 10],\n",
              "       [10, 12, 16,  6],\n",
              "       [18,  4,  6, 14],\n",
              "       [16, 12, 12, 20]])"
            ]
          },
          "metadata": {},
          "execution_count": 63
        }
      ]
    },
    {
      "cell_type": "code",
      "source": [
        "import numpy as np\n",
        "def calcula_determinante(matriz):\n",
        "  determinante=np.linalg.det(matriz)\n",
        "  print(\"el determinante es\" )\n",
        "  print(determinante)"
      ],
      "metadata": {
        "id": "7sXpR1nkwbnH"
      },
      "execution_count": 88,
      "outputs": []
    },
    {
      "cell_type": "code",
      "source": [
        "determinante=calcula_determinante(L_matriz)"
      ],
      "metadata": {
        "colab": {
          "base_uri": "https://localhost:8080/"
        },
        "id": "1woy4Gydwf5_",
        "outputId": "8f71e22b-aa28-4022-f3c0-0250b35a8206"
      },
      "execution_count": 90,
      "outputs": [
        {
          "output_type": "stream",
          "name": "stdout",
          "text": [
            "el determinante es\n",
            "17503.999999999993\n"
          ]
        }
      ]
    }
  ]
}