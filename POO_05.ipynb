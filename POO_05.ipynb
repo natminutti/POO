{
  "nbformat": 4,
  "nbformat_minor": 0,
  "metadata": {
    "colab": {
      "provenance": []
    },
    "kernelspec": {
      "name": "python3",
      "display_name": "Python 3"
    },
    "language_info": {
      "name": "python"
    }
  },
  "cells": [
    {
      "cell_type": "markdown",
      "source": [
        "MATRICES"
      ],
      "metadata": {
        "id": "mVjH5hPYpGdK"
      }
    },
    {
      "cell_type": "code",
      "source": [
        "import numpy as np"
      ],
      "metadata": {
        "id": "W-flEsyzpJs2"
      },
      "execution_count": null,
      "outputs": []
    },
    {
      "cell_type": "code",
      "source": [
        "np.random.randint(1,21, size=15)"
      ],
      "metadata": {
        "colab": {
          "base_uri": "https://localhost:8080/"
        },
        "id": "SLyjY5LapmPL",
        "outputId": "015117d3-664f-4b74-9a37-e5d205b86558"
      },
      "execution_count": null,
      "outputs": [
        {
          "output_type": "execute_result",
          "data": {
            "text/plain": [
              "array([20, 13,  6,  7, 20, 20, 11,  1, 10, 18, 20,  9,  7, 17, 19])"
            ]
          },
          "metadata": {},
          "execution_count": 8
        }
      ]
    },
    {
      "cell_type": "code",
      "source": [
        "L = [i for i in np.random.randint(1,21, size=40) if i%2==0]\n",
        "L"
      ],
      "metadata": {
        "colab": {
          "base_uri": "https://localhost:8080/"
        },
        "id": "oYCkDvnDp9xN",
        "outputId": "818333f3-d54d-499d-ad05-69d03deadb39"
      },
      "execution_count": null,
      "outputs": [
        {
          "output_type": "execute_result",
          "data": {
            "text/plain": [
              "[8, 6, 6, 10, 10, 6, 2, 14, 18, 20, 2, 8, 14, 12, 6, 18, 16, 2, 16]"
            ]
          },
          "metadata": {},
          "execution_count": 14
        }
      ]
    },
    {
      "cell_type": "code",
      "source": [
        "L.pop()#muestra el mas grande"
      ],
      "metadata": {
        "id": "PxyEE_EitAPH",
        "colab": {
          "base_uri": "https://localhost:8080/"
        },
        "outputId": "b7b5ac27-19cb-42f6-8032-71470835cef6"
      },
      "execution_count": 15,
      "outputs": [
        {
          "output_type": "execute_result",
          "data": {
            "text/plain": [
              "16"
            ]
          },
          "metadata": {},
          "execution_count": 15
        }
      ]
    },
    {
      "cell_type": "code",
      "source": [
        "L.remove(20)"
      ],
      "metadata": {
        "id": "r-j-PIsStm-H"
      },
      "execution_count": 18,
      "outputs": []
    },
    {
      "cell_type": "code",
      "source": [
        "L + [4]"
      ],
      "metadata": {
        "colab": {
          "base_uri": "https://localhost:8080/"
        },
        "id": "-9HD0tXGvRI3",
        "outputId": "2545a76f-4daa-4782-a0f3-9d6106919dad"
      },
      "execution_count": 19,
      "outputs": [
        {
          "output_type": "execute_result",
          "data": {
            "text/plain": [
              "[8, 6, 6, 10, 10, 6, 2, 14, 18, 2, 8, 14, 12, 6, 18, 16, 2, 4]"
            ]
          },
          "metadata": {},
          "execution_count": 19
        }
      ]
    },
    {
      "cell_type": "code",
      "source": [
        "L"
      ],
      "metadata": {
        "colab": {
          "base_uri": "https://localhost:8080/"
        },
        "id": "clnSajxbvWPO",
        "outputId": "4c1ddc01-da39-4de6-8135-36a12e706459"
      },
      "execution_count": 20,
      "outputs": [
        {
          "output_type": "execute_result",
          "data": {
            "text/plain": [
              "[8, 6, 6, 10, 10, 6, 2, 14, 18, 2, 8, 14, 12, 6, 18, 16, 2]"
            ]
          },
          "metadata": {},
          "execution_count": 20
        }
      ]
    },
    {
      "cell_type": "code",
      "source": [
        "L.pop(3)"
      ],
      "metadata": {
        "colab": {
          "base_uri": "https://localhost:8080/"
        },
        "id": "vg3btaQTwI1J",
        "outputId": "43ffcb7a-7da7-414f-a312-fcc2efd3b091"
      },
      "execution_count": 21,
      "outputs": [
        {
          "output_type": "execute_result",
          "data": {
            "text/plain": [
              "10"
            ]
          },
          "metadata": {},
          "execution_count": 21
        }
      ]
    },
    {
      "cell_type": "code",
      "source": [
        "L_arreglo = np.array(L)\n",
        "L_arreglo"
      ],
      "metadata": {
        "colab": {
          "base_uri": "https://localhost:8080/"
        },
        "id": "ml4qeQlDxRaH",
        "outputId": "9a964ed0-e92a-4902-efd4-582199c6e89e"
      },
      "execution_count": 22,
      "outputs": [
        {
          "output_type": "execute_result",
          "data": {
            "text/plain": [
              "array([ 8,  6,  6, 10,  6,  2, 14, 18,  2,  8, 14, 12,  6, 18, 16,  2])"
            ]
          },
          "metadata": {},
          "execution_count": 22
        }
      ]
    },
    {
      "cell_type": "code",
      "source": [
        "len(L_arreglo)"
      ],
      "metadata": {
        "colab": {
          "base_uri": "https://localhost:8080/"
        },
        "id": "dAvOr92FxZvG",
        "outputId": "c17ab81c-66ab-4b3f-e8f1-1e49938c6440"
      },
      "execution_count": 43,
      "outputs": [
        {
          "output_type": "execute_result",
          "data": {
            "text/plain": [
              "16"
            ]
          },
          "metadata": {},
          "execution_count": 43
        }
      ]
    },
    {
      "cell_type": "code",
      "source": [
        "L_matriz= L_arreglo.reshape(4,4)\n",
        "L_matriz"
      ],
      "metadata": {
        "colab": {
          "base_uri": "https://localhost:8080/"
        },
        "id": "0Y_x-0cW0SFA",
        "outputId": "5107e51b-b3b4-4654-cbfa-e1cf01b3bd95"
      },
      "execution_count": 56,
      "outputs": [
        {
          "output_type": "execute_result",
          "data": {
            "text/plain": [
              "array([[ 8,  6,  6, 10],\n",
              "       [ 6,  2, 14, 18],\n",
              "       [ 2,  8, 14, 12],\n",
              "       [ 6, 18, 16,  2]])"
            ]
          },
          "metadata": {},
          "execution_count": 56
        }
      ]
    },
    {
      "cell_type": "code",
      "source": [
        "L_arreglo.reshape(8,2)"
      ],
      "metadata": {
        "colab": {
          "base_uri": "https://localhost:8080/"
        },
        "id": "CCWKDSW70kBJ",
        "outputId": "97f17f2b-94a0-4984-d319-51916e4c3b23"
      },
      "execution_count": 29,
      "outputs": [
        {
          "output_type": "execute_result",
          "data": {
            "text/plain": [
              "array([[ 8,  6],\n",
              "       [ 6, 10],\n",
              "       [ 6,  2],\n",
              "       [14, 18],\n",
              "       [ 2,  8],\n",
              "       [14, 12],\n",
              "       [ 6, 18],\n",
              "       [16,  2]])"
            ]
          },
          "metadata": {},
          "execution_count": 29
        }
      ]
    },
    {
      "cell_type": "code",
      "source": [
        "M_matriz= np.array([2,3,14,19,13,0,25,6,9,1,2,3,4,5,6,7]).reshape(4,4)\n",
        "M_matriz"
      ],
      "metadata": {
        "colab": {
          "base_uri": "https://localhost:8080/"
        },
        "id": "di-dn8Nx0xWo",
        "outputId": "90e79043-7653-44e0-8ca4-bcd5eb267c78"
      },
      "execution_count": 59,
      "outputs": [
        {
          "output_type": "execute_result",
          "data": {
            "text/plain": [
              "array([[ 2,  3, 14, 19],\n",
              "       [13,  0, 25,  6],\n",
              "       [ 9,  1,  2,  3],\n",
              "       [ 4,  5,  6,  7]])"
            ]
          },
          "metadata": {},
          "execution_count": 59
        }
      ]
    },
    {
      "cell_type": "code",
      "source": [
        "N = L_matriz @ M_matriz\n",
        "N"
      ],
      "metadata": {
        "colab": {
          "base_uri": "https://localhost:8080/"
        },
        "id": "xec60AyD10cR",
        "outputId": "9dfe2c29-5cb8-458c-8f75-33b431b21ad6"
      },
      "execution_count": 60,
      "outputs": [
        {
          "output_type": "execute_result",
          "data": {
            "text/plain": [
              "array([[188,  80, 334, 276],\n",
              "       [236, 122, 270, 294],\n",
              "       [282,  80, 328, 212],\n",
              "       [398,  44, 578, 284]])"
            ]
          },
          "metadata": {},
          "execution_count": 60
        }
      ]
    }
  ]
}