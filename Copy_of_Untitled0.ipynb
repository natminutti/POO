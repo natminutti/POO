{
  "nbformat": 4,
  "nbformat_minor": 0,
  "metadata": {
    "colab": {
      "provenance": []
    },
    "kernelspec": {
      "name": "python3",
      "display_name": "Python 3"
    },
    "language_info": {
      "name": "python"
    }
  },
  "cells": [
    {
      "cell_type": "markdown",
      "source": [
        "#Primeros Objetos\n",
        "1. Objetos\n",
        "2. Listas\n",
        "3. Conjuntos"
      ],
      "metadata": {
        "id": "a3KbpODjlYKH"
      }
    },
    {
      "cell_type": "markdown",
      "source": [],
      "metadata": {
        "id": "qn7Ki85mll_3"
      }
    },
    {
      "cell_type": "markdown",
      "source": [
        "En Phyton se pueden realizar operaciones sobre objetos. Además, es útil para resolver un sistema de ecuaciones lineales.\n",
        "$$\n",
        "f(x,y)=\\begin{cases}\n",
        "x+2y=3\\\\\n",
        "2x+4y &=6\n",
        "\\end{cases}\n",
        "$$\n"
      ],
      "metadata": {
        "id": "XU3iw3zQlocN"
      }
    },
    {
      "cell_type": "code",
      "source": [
        "print(\"Hola Mundo!\")"
      ],
      "metadata": {
        "colab": {
          "base_uri": "https://localhost:8080/"
        },
        "id": "zKWMyN2HqyXm",
        "outputId": "8d3c9a70-08ac-449b-c425-43f3f75f2816"
      },
      "execution_count": null,
      "outputs": [
        {
          "output_type": "stream",
          "name": "stdout",
          "text": [
            "Hola Mundo!\n"
          ]
        }
      ]
    },
    {
      "cell_type": "markdown",
      "source": [
        "## Primeros objetos\n",
        "Numeros enteros\n",
        "\n",
        "\n",
        "Numeros flotantes  "
      ],
      "metadata": {
        "id": "ui2BHdj9szEH"
      }
    },
    {
      "cell_type": "code",
      "source": [
        "#Crear variables\n",
        "x = 3\n",
        "y = 5\n",
        "\n",
        "x+y\n",
        "x-y\n",
        "x*y\n",
        "x**y\n",
        "x/y\n",
        "x//y\n",
        "x%y"
      ],
      "metadata": {
        "colab": {
          "base_uri": "https://localhost:8080/"
        },
        "id": "Rbq-yOgrtGah",
        "outputId": "e21e7d65-48d6-4bc6-d07b-6dc1dd0fc57e"
      },
      "execution_count": null,
      "outputs": [
        {
          "output_type": "execute_result",
          "data": {
            "text/plain": [
              "3"
            ]
          },
          "metadata": {},
          "execution_count": 8
        }
      ]
    },
    {
      "cell_type": "code",
      "source": [
        "type (x + y)\n",
        "int\n"
      ],
      "metadata": {
        "colab": {
          "base_uri": "https://localhost:8080/"
        },
        "id": "7uh8lhf9xX9f",
        "outputId": "03e8df61-6f52-4371-c832-8320deefc527"
      },
      "execution_count": null,
      "outputs": [
        {
          "output_type": "execute_result",
          "data": {
            "text/plain": [
              "int"
            ]
          },
          "metadata": {},
          "execution_count": 9
        }
      ]
    },
    {
      "cell_type": "code",
      "source": [
        "print (x%y)"
      ],
      "metadata": {
        "id": "t1ZSjiOpxgTj"
      },
      "execution_count": null,
      "outputs": []
    }
  ]
}