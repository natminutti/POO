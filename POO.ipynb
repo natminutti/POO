{
  "cells": [
    {
      "cell_type": "markdown",
      "metadata": {
        "id": "v0RvMEaXZjT1"
      },
      "source": [
        "Polimorfismos son dos funciones\n",
        "\n",
        "1 funcion un mordfismo\n",
        "\n",
        "Hay una clase madre y de ahi salen clases heredadas\n",
        "\n",
        "Funciones son variables.\n",
        "\n",
        "Necesitamos crear muchas funciones es decir polimorfismos, en la definicion se ponen variables.\n",
        "\n",
        "init es para variables y funciones\n",
        "\n",
        "self declarador de variables y funciones\n",
        "\n",
        "Una definicion termina con un return o con un print\n",
        "\n",
        "mascota = Mascota() estas definiendo una variable y siempre que pongas la varaible llamas a la clase"
      ]
    },
    {
      "cell_type": "code",
      "execution_count": null,
      "metadata": {
        "id": "4zjzQtSla4OG"
      },
      "outputs": [],
      "source": [
        "class Mascota():\n",
        "  def __init__(self):\n",
        "    print(\"Creamos una clase madre\")\n",
        "\n",
        "  def adivina(self):\n",
        "      print(\"Hola, soy un perro\")\n",
        "\n",
        "  def hablar(self):\n",
        "        print(\"Ladro\")\n"
      ]
    },
    {
      "cell_type": "code",
      "execution_count": null,
      "metadata": {
        "colab": {
          "base_uri": "https://localhost:8080/"
        },
        "id": "lP40gQ2udTdr",
        "outputId": "ca6d6ccd-e61f-4c4f-afe1-3859691c8c6a"
      },
      "outputs": [
        {
          "name": "stdout",
          "output_type": "stream",
          "text": [
            "Creamos una clase madre\n"
          ]
        }
      ],
      "source": [
        "mascota = Mascota()"
      ]
    },
    {
      "cell_type": "code",
      "execution_count": null,
      "metadata": {
        "colab": {
          "base_uri": "https://localhost:8080/"
        },
        "id": "awtd-4Rid4YM",
        "outputId": "1c7cfebc-5efc-4af4-b7c8-c78897d07f9d"
      },
      "outputs": [
        {
          "name": "stdout",
          "output_type": "stream",
          "text": [
            "Hola, soy un perro\n"
          ]
        }
      ],
      "source": [
        "mascota.adivina()"
      ]
    },
    {
      "cell_type": "code",
      "execution_count": null,
      "metadata": {
        "colab": {
          "base_uri": "https://localhost:8080/"
        },
        "id": "RlLoOOsteKYz",
        "outputId": "db67c563-75d6-4041-a65f-6edfd2c454a6"
      },
      "outputs": [
        {
          "name": "stdout",
          "output_type": "stream",
          "text": [
            "Ladro\n"
          ]
        }
      ],
      "source": [
        "mascota.hablar()"
      ]
    },
    {
      "cell_type": "markdown",
      "metadata": {
        "id": "LmvzZ4Sdgg7b"
      },
      "source": [
        "Crear una herencia"
      ]
    },
    {
      "cell_type": "code",
      "execution_count": null,
      "metadata": {
        "colab": {
          "background_save": true
        },
        "id": "hJMfPnlngmRi"
      },
      "outputs": [],
      "source": [
        "class Perro(Mascota):\n",
        "\n",
        "  def __init__(self):\n",
        "    Mascota. __init__(self)\n",
        "    print(\"Creamos una clase heredada\")\n",
        "\n",
        "  def nombre(self):\n",
        "    print(\"Luna\")\n",
        "\n",
        "  def adivina(self)\n",
        "   print(\"Golden\")\n",
        "\n",
        "  def idioma(self):\n",
        "    print(\"WUAF\")\n"
      ]
    },
    {
      "cell_type": "code",
      "execution_count": null,
      "metadata": {
        "colab": {
          "background_save": true,
          "base_uri": "https://localhost:8080/"
        },
        "id": "1QV-RDy4iKmw",
        "outputId": "c85fbe68-cbd4-4273-f30e-b5252722a9c0"
      },
      "outputs": [
        {
          "name": "stdout",
          "output_type": "stream",
          "text": [
            "Creamos una clase madre\n",
            "Creamos una clase heredada\n"
          ]
        }
      ],
      "source": [
        "perro = Perro() # Llamamos a la clase heredada"
      ]
    },
    {
      "cell_type": "code",
      "execution_count": null,
      "metadata": {
        "colab": {
          "base_uri": "https://localhost:8080/"
        },
        "id": "VPcxQV3ak3g_",
        "outputId": "bc969b18-bae9-4a26-a599-3f57c2500110"
      },
      "outputs": [
        {
          "name": "stdout",
          "output_type": "stream",
          "text": [
            "Hola, soy un perro\n"
          ]
        }
      ],
      "source": [
        "mascota.adivina()"
      ]
    },
    {
      "cell_type": "code",
      "execution_count": null,
      "metadata": {
        "colab": {
          "base_uri": "https://localhost:8080/"
        },
        "id": "7gtQ769xk6cO",
        "outputId": "1d4b731a-2b67-4d56-c811-ee203b9c2416"
      },
      "outputs": [
        {
          "output_type": "stream",
          "name": "stdout",
          "text": [
            "Golden\n"
          ]
        }
      ],
      "source": [
        "perro.adivina()"
      ]
    },
    {
      "cell_type": "code",
      "execution_count": null,
      "metadata": {
        "colab": {
          "base_uri": "https://localhost:8080/"
        },
        "id": "4OhBFF2UlC9p",
        "outputId": "3ef95614-a5db-48f2-83a2-a181d81fc53f"
      },
      "outputs": [
        {
          "name": "stdout",
          "output_type": "stream",
          "text": [
            "WUAF\n"
          ]
        }
      ],
      "source": [
        "perro.idioma()"
      ]
    },
    {
      "cell_type": "markdown",
      "source": [
        "EJERCICIO YO"
      ],
      "metadata": {
        "id": "braLyH0Amr0P"
      }
    },
    {
      "cell_type": "code",
      "source": [
        "class Yo():\n",
        "  def __init__(self):\n",
        "    print(\"Creamos una clase madre\")\n",
        "\n",
        "  def adivina(self):\n",
        "      print(\"Hola, soy Natalia\")\n",
        "\n",
        "  def hablar(self):\n",
        "        print(\"hablo español\")\n"
      ],
      "metadata": {
        "id": "j4v_61OEmp0V"
      },
      "execution_count": 32,
      "outputs": []
    },
    {
      "cell_type": "code",
      "source": [],
      "metadata": {
        "id": "LRXlQl9xm7ik"
      },
      "execution_count": null,
      "outputs": []
    },
    {
      "cell_type": "code",
      "source": [
        "yo = Yo()"
      ],
      "metadata": {
        "colab": {
          "base_uri": "https://localhost:8080/"
        },
        "id": "ktlKfgdom7tx",
        "outputId": "4ca99585-0128-49c0-d02d-dad511abfbb7"
      },
      "execution_count": 33,
      "outputs": [
        {
          "output_type": "stream",
          "name": "stdout",
          "text": [
            "Creamos una clase madre\n"
          ]
        }
      ]
    },
    {
      "cell_type": "code",
      "source": [
        "yo.adivina()"
      ],
      "metadata": {
        "colab": {
          "base_uri": "https://localhost:8080/"
        },
        "id": "HEFtewc4nDBM",
        "outputId": "a7d85e21-371c-44d5-b6e2-22fec94a843e"
      },
      "execution_count": 34,
      "outputs": [
        {
          "output_type": "stream",
          "name": "stdout",
          "text": [
            "Hola, soy Natalia\n"
          ]
        }
      ]
    },
    {
      "cell_type": "code",
      "source": [
        "yo.hablar()"
      ],
      "metadata": {
        "colab": {
          "base_uri": "https://localhost:8080/"
        },
        "id": "B6XPi-J_nGSQ",
        "outputId": "57db4c4b-add2-4442-a26f-5eb047fa37ab"
      },
      "execution_count": 35,
      "outputs": [
        {
          "output_type": "stream",
          "name": "stdout",
          "text": [
            "hablo español\n"
          ]
        }
      ]
    },
    {
      "cell_type": "markdown",
      "source": [
        "Herencia de la madre clasee Yo\n",
        "\n",
        "\n"
      ],
      "metadata": {
        "id": "9zK1A6hDnOzq"
      }
    },
    {
      "cell_type": "code",
      "source": [
        "class Amiga(Yo):\n",
        "\n",
        "  def __init__(self):\n",
        "    Yo. __init__(self)\n",
        "    print(\"Creamos una clase heredada\")\n",
        "\n",
        "  def nombre(self):\n",
        "    print(\"Majo barreda\")\n",
        "\n",
        "  def adivina(self):\n",
        "   print(\"Mejor amiga\")\n",
        "\n",
        "  def idioma(self):\n",
        "    print(\"Love lenguaje\")"
      ],
      "metadata": {
        "id": "sLJd5JMXnUdF"
      },
      "execution_count": 42,
      "outputs": []
    },
    {
      "cell_type": "code",
      "source": [
        "majo = Amiga() # Llamamos a la clase heredada"
      ],
      "metadata": {
        "colab": {
          "base_uri": "https://localhost:8080/"
        },
        "id": "9RaZZoq1nxnO",
        "outputId": "9a041152-7e14-4734-d1af-0955f465cfe7"
      },
      "execution_count": 43,
      "outputs": [
        {
          "output_type": "stream",
          "name": "stdout",
          "text": [
            "Creamos una clase madre\n",
            "Creamos una clase heredada\n"
          ]
        }
      ]
    },
    {
      "cell_type": "code",
      "source": [
        "majo.adivina()"
      ],
      "metadata": {
        "colab": {
          "base_uri": "https://localhost:8080/"
        },
        "id": "yfMh2x8rn12U",
        "outputId": "5a4c6abb-1ed6-4039-e377-88e4faa3da3a"
      },
      "execution_count": 44,
      "outputs": [
        {
          "output_type": "stream",
          "name": "stdout",
          "text": [
            "Mejor amiga\n"
          ]
        }
      ]
    },
    {
      "cell_type": "code",
      "source": [
        "majo.nombre()"
      ],
      "metadata": {
        "colab": {
          "base_uri": "https://localhost:8080/"
        },
        "id": "X-ZybAgmo-rI",
        "outputId": "cb69774f-4b7f-4df5-84a4-bb9d4b33b112"
      },
      "execution_count": 45,
      "outputs": [
        {
          "output_type": "stream",
          "name": "stdout",
          "text": [
            "Majo barreda\n"
          ]
        }
      ]
    },
    {
      "cell_type": "code",
      "source": [
        "majo.idioma()"
      ],
      "metadata": {
        "colab": {
          "base_uri": "https://localhost:8080/"
        },
        "id": "zhCuI-6BpCyI",
        "outputId": "c14d8a95-efb4-462b-e2ea-ed229cc4d2ec"
      },
      "execution_count": 46,
      "outputs": [
        {
          "output_type": "stream",
          "name": "stdout",
          "text": [
            "Love lenguaje\n"
          ]
        }
      ]
    }
  ],
  "metadata": {
    "colab": {
      "provenance": []
    },
    "kernelspec": {
      "display_name": "Python 3",
      "name": "python3"
    },
    "language_info": {
      "name": "python"
    }
  },
  "nbformat": 4,
  "nbformat_minor": 0
}